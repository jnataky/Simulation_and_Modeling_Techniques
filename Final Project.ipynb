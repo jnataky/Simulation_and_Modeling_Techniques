{
 "cells": [
  {
   "cell_type": "markdown",
   "metadata": {},
   "source": [
    "## Simulation and Modeling Techniques\n",
    "## Final Project: The Money Fight Simulation\n"
   ]
  },
  {
   "cell_type": "markdown",
   "metadata": {},
   "source": [
    "### Background"
   ]
  },
  {
   "cell_type": "markdown",
   "metadata": {},
   "source": [
    "Floyd Mayweather Jr. vs. Conor McGregor, also known as \"The Money Fight\" and \"The Biggest Fight in Combat Sports History\",was a professional boxing match between undefeated eleven-time five-division boxing world champion Floyd Mayweather Jr. and two-division mixed martial arts (MMA) world champion and, at the time, UFC Lightweight Champion Conor McGregor.\n",
    "My work here will be to simulate that fight using different techniques learned in this class."
   ]
  },
  {
   "cell_type": "markdown",
   "metadata": {},
   "source": [
    "### Libraries"
   ]
  },
  {
   "cell_type": "code",
   "execution_count": 1,
   "metadata": {},
   "outputs": [],
   "source": [
    "import numpy as np\n",
    "import pandas as pd\n",
    "import matplotlib.pyplot as plt\n",
    "import scipy\n",
    "import sympy\n",
    "import pint\n",
    "UNITS = pint.UnitRegistry()\n",
    "import modsim\n",
    "from modsim import*"
   ]
  },
  {
   "cell_type": "code",
   "execution_count": 2,
   "metadata": {},
   "outputs": [],
   "source": [
    "# Configure Jupyter so figures appear in the notebook\n",
    "%matplotlib inline\n",
    "\n",
    "# Configure Jupyter to display the assigned value after an assignment\n",
    "%config InteractiveShell.ast_node_interactivity='last_expr_or_assign'\n",
    "\n",
    "# import functions from the modsim.py module\n",
    "from modsim import *"
   ]
  },
  {
   "cell_type": "markdown",
   "metadata": {},
   "source": [
    "Set the seed"
   ]
  },
  {
   "cell_type": "code",
   "execution_count": 3,
   "metadata": {},
   "outputs": [],
   "source": [
    "np.random.seed(1412)"
   ]
  },
  {
   "cell_type": "markdown",
   "metadata": {},
   "source": [
    "### State Objects"
   ]
  },
  {
   "cell_type": "markdown",
   "metadata": {},
   "source": [
    "Different metrics used here are thrown, landed, Kd (knockdown), ko (knockout), and score"
   ]
  },
  {
   "cell_type": "code",
   "execution_count": 4,
   "metadata": {},
   "outputs": [
    {
     "data": {
      "text/plain": [
       "thrown    0\n",
       "landed    0\n",
       "kd        0\n",
       "ko        0\n",
       "score     0\n",
       "Name: state, dtype: int64"
      ]
     },
     "execution_count": 4,
     "metadata": {},
     "output_type": "execute_result"
    }
   ],
   "source": [
    "mayweather = State(thrown = 0, landed = 0, kd = 0, ko = 0, score = 0)\n",
    "mcgregor = State(thrown = 0, landed = 0, kd = 0, ko = 0, score = 0)"
   ]
  },
  {
   "cell_type": "markdown",
   "metadata": {},
   "source": [
    "### Step function"
   ]
  },
  {
   "cell_type": "markdown",
   "metadata": {},
   "source": [
    "This function simulates an instance of a round for both fighters. mw will represent Mayweather and mg McGregor"
   ]
  },
  {
   "cell_type": "code",
   "execution_count": 5,
   "metadata": {},
   "outputs": [],
   "source": [
    "def step(system):\n",
    "    \n",
    "    # Mayweather throwing or landing a punch:\n",
    "    if flip(system.mw_throw): \n",
    "        mayweather.thrown += 1 \n",
    "        if flip(system.mw_land): \n",
    "            mayweather.landed += 1 \n",
    "            \n",
    "    # McGregor throwing or landing a punch:\n",
    "    \n",
    "    if flip(system.mg_throw):\n",
    "        mcgregor.thrown += 1\n",
    "        if flip(system.mg_land): \n",
    "            mcgregor.landed += 1\n"
   ]
  },
  {
   "cell_type": "markdown",
   "metadata": {},
   "source": [
    "### System"
   ]
  },
  {
   "cell_type": "markdown",
   "metadata": {},
   "source": [
    "We are going to define different parameters for the system"
   ]
  },
  {
   "cell_type": "code",
   "execution_count": 6,
   "metadata": {},
   "outputs": [
    {
     "data": {
      "text/plain": [
       "namespace(mw_throw=0.23, mw_land=0.47, mg_throw=0.27, mg_land=0.31)"
      ]
     },
     "execution_count": 6,
     "metadata": {},
     "output_type": "execute_result"
    }
   ],
   "source": [
    "system = System(mw_throw = 0.23, mw_land = 0.47, mg_throw = 0.27, mg_land = 0.31)"
   ]
  },
  {
   "cell_type": "markdown",
   "metadata": {},
   "source": [
    "### Reset function"
   ]
  },
  {
   "cell_type": "markdown",
   "metadata": {},
   "source": [
    "This function will reset the state object"
   ]
  },
  {
   "cell_type": "code",
   "execution_count": 7,
   "metadata": {},
   "outputs": [],
   "source": [
    "def reset(state):\n",
    "    \n",
    "    state.thrown = 0\n",
    "    state.landed = 0\n",
    "    state.kd = 0\n",
    "    state.score = 0\n",
    "    state.ko = 0"
   ]
  },
  {
   "cell_type": "markdown",
   "metadata": {},
   "source": [
    "### Round simulation"
   ]
  },
  {
   "cell_type": "markdown",
   "metadata": {},
   "source": [
    "This function will simulate a round"
   ]
  },
  {
   "cell_type": "code",
   "execution_count": 8,
   "metadata": {},
   "outputs": [],
   "source": [
    "ns = 180 # number of second for a round\n",
    "\n",
    "def round_sim(system):\n",
    "    \n",
    "    for i in range(ns): \n",
    "        step(system)\n",
    "        \n",
    "    if mayweather.landed > mcgregor.landed:\n",
    "        mayweather.score += 10\n",
    "        mcgregor.score += 9\n",
    "    elif mcgregor.landed > mayweather.landed:\n",
    "        mayweather.score += 9\n",
    "        mcgregor.score += 10\n",
    "    else:\n",
    "        mayweather.score += 10\n",
    "        mcgregor.score += 10"
   ]
  },
  {
   "cell_type": "markdown",
   "metadata": {},
   "source": [
    "### All rounds simulation"
   ]
  },
  {
   "cell_type": "markdown",
   "metadata": {},
   "source": [
    "We will modified the round_sim function to be able to simulate all the rounds rather than only one.\n",
    "Therefore, we will introduce new object(init) and new functions to help us to do so."
   ]
  },
  {
   "cell_type": "code",
   "execution_count": 9,
   "metadata": {},
   "outputs": [],
   "source": [
    "init = State(mw_thrown = 0,\n",
    "             mw_landed = 0,\n",
    "             mw_kd = 0,\n",
    "             mg_thrown = 0,\n",
    "             mg_landed = 0,\n",
    "             mg_kd = 0)\n",
    "\n",
    "system = System(init = init,\n",
    "                mw_throw = 0.23,\n",
    "                mw_land = 0.47,\n",
    "                mg_throw = 0.27,\n",
    "                mg_land = 0.31)\n",
    "\n",
    "def reset_state_modified():\n",
    "    system.init = State(mw_thrown = 0,\n",
    "             mw_landed = 0,\n",
    "             mw_kd = 0,\n",
    "             mg_thrown = 0,\n",
    "             mg_landed = 0,\n",
    "             mg_kd = 0)\n",
    "\n",
    "def step(system):\n",
    "\n",
    "    # Mayweather\n",
    "    \n",
    "    if flip(system.mw_throw): \n",
    "        system.init.mw_thrown += 1 \n",
    "        if flip(system.mw_land): \n",
    "            system.init.mw_landed += 1 \n",
    "  \n",
    "    # McGregor\n",
    "    \n",
    "    if flip(system.mg_throw): \n",
    "        system.init.mg_thrown += 1 \n",
    "        if flip(system.mg_land): \n",
    "            system.init.mg_landed += 1\n",
    "\n",
    "            \n",
    "def round_sim(system):\n",
    "   \n",
    "    \n",
    "    reset_state_modified\n",
    "    ns = 180\n",
    "    for i in range(ns): \n",
    "        step(system)\n",
    "        \n",
    "    if system.init.mw_landed > system.init.mg_landed:\n",
    "        mayweather.score += 10\n",
    "        mcgregor.score += 9\n",
    "    elif system.init.mg_landed > system.init.mw_landed:\n",
    "        mayweather.score += 9\n",
    "        mcgregor.score += 10\n",
    "    else:\n",
    "        mayweather.score += 10\n",
    "        mcgregor.score += 10\n",
    "        \n",
    "    mayweather.thrown += system.init.mw_thrown \n",
    "    mayweather.landed += system.init.mw_landed\n",
    "    mayweather.kd += system.init.mw_kd\n",
    "    mcgregor.thrown += system.init.mg_thrown\n",
    "    mcgregor.landed += system.init.mg_landed\n",
    "    mcgregor.kd += system.init.mg_kd"
   ]
  },
  {
   "cell_type": "markdown",
   "metadata": {},
   "source": [
    "### Total fight simulation"
   ]
  },
  {
   "cell_type": "code",
   "execution_count": 10,
   "metadata": {},
   "outputs": [
    {
     "data": {
      "text/html": [
       "<div>\n",
       "<style scoped>\n",
       "    .dataframe tbody tr th:only-of-type {\n",
       "        vertical-align: middle;\n",
       "    }\n",
       "\n",
       "    .dataframe tbody tr th {\n",
       "        vertical-align: top;\n",
       "    }\n",
       "\n",
       "    .dataframe thead th {\n",
       "        text-align: right;\n",
       "    }\n",
       "</style>\n",
       "<table border=\"1\" class=\"dataframe\">\n",
       "  <thead>\n",
       "    <tr style=\"text-align: right;\">\n",
       "      <th></th>\n",
       "      <th>Mayweather</th>\n",
       "      <th>McGregor</th>\n",
       "      <th>Mayweather_Thrown</th>\n",
       "      <th>McGregor_Thrown</th>\n",
       "      <th>Mayweather_Landed</th>\n",
       "      <th>McGregor_Landed</th>\n",
       "    </tr>\n",
       "  </thead>\n",
       "  <tbody>\n",
       "    <tr>\n",
       "      <th>1</th>\n",
       "      <td>10</td>\n",
       "      <td>9</td>\n",
       "      <td>34</td>\n",
       "      <td>50</td>\n",
       "      <td>15</td>\n",
       "      <td>14</td>\n",
       "    </tr>\n",
       "    <tr>\n",
       "      <th>2</th>\n",
       "      <td>20</td>\n",
       "      <td>18</td>\n",
       "      <td>74</td>\n",
       "      <td>98</td>\n",
       "      <td>38</td>\n",
       "      <td>30</td>\n",
       "    </tr>\n",
       "    <tr>\n",
       "      <th>3</th>\n",
       "      <td>30</td>\n",
       "      <td>27</td>\n",
       "      <td>113</td>\n",
       "      <td>144</td>\n",
       "      <td>54</td>\n",
       "      <td>45</td>\n",
       "    </tr>\n",
       "    <tr>\n",
       "      <th>4</th>\n",
       "      <td>40</td>\n",
       "      <td>36</td>\n",
       "      <td>156</td>\n",
       "      <td>201</td>\n",
       "      <td>73</td>\n",
       "      <td>68</td>\n",
       "    </tr>\n",
       "    <tr>\n",
       "      <th>5</th>\n",
       "      <td>50</td>\n",
       "      <td>45</td>\n",
       "      <td>185</td>\n",
       "      <td>246</td>\n",
       "      <td>86</td>\n",
       "      <td>83</td>\n",
       "    </tr>\n",
       "    <tr>\n",
       "      <th>6</th>\n",
       "      <td>60</td>\n",
       "      <td>54</td>\n",
       "      <td>224</td>\n",
       "      <td>300</td>\n",
       "      <td>107</td>\n",
       "      <td>101</td>\n",
       "    </tr>\n",
       "    <tr>\n",
       "      <th>7</th>\n",
       "      <td>70</td>\n",
       "      <td>63</td>\n",
       "      <td>269</td>\n",
       "      <td>354</td>\n",
       "      <td>127</td>\n",
       "      <td>109</td>\n",
       "    </tr>\n",
       "    <tr>\n",
       "      <th>8</th>\n",
       "      <td>80</td>\n",
       "      <td>72</td>\n",
       "      <td>298</td>\n",
       "      <td>400</td>\n",
       "      <td>138</td>\n",
       "      <td>122</td>\n",
       "    </tr>\n",
       "    <tr>\n",
       "      <th>9</th>\n",
       "      <td>90</td>\n",
       "      <td>81</td>\n",
       "      <td>327</td>\n",
       "      <td>443</td>\n",
       "      <td>156</td>\n",
       "      <td>134</td>\n",
       "    </tr>\n",
       "    <tr>\n",
       "      <th>10</th>\n",
       "      <td>100</td>\n",
       "      <td>90</td>\n",
       "      <td>379</td>\n",
       "      <td>496</td>\n",
       "      <td>183</td>\n",
       "      <td>149</td>\n",
       "    </tr>\n",
       "    <tr>\n",
       "      <th>11</th>\n",
       "      <td>110</td>\n",
       "      <td>99</td>\n",
       "      <td>422</td>\n",
       "      <td>550</td>\n",
       "      <td>205</td>\n",
       "      <td>161</td>\n",
       "    </tr>\n",
       "    <tr>\n",
       "      <th>12</th>\n",
       "      <td>120</td>\n",
       "      <td>108</td>\n",
       "      <td>461</td>\n",
       "      <td>604</td>\n",
       "      <td>224</td>\n",
       "      <td>175</td>\n",
       "    </tr>\n",
       "  </tbody>\n",
       "</table>\n",
       "</div>"
      ],
      "text/plain": [
       "    Mayweather  McGregor  Mayweather_Thrown  McGregor_Thrown  \\\n",
       "1           10         9                 34               50   \n",
       "2           20        18                 74               98   \n",
       "3           30        27                113              144   \n",
       "4           40        36                156              201   \n",
       "5           50        45                185              246   \n",
       "6           60        54                224              300   \n",
       "7           70        63                269              354   \n",
       "8           80        72                298              400   \n",
       "9           90        81                327              443   \n",
       "10         100        90                379              496   \n",
       "11         110        99                422              550   \n",
       "12         120       108                461              604   \n",
       "\n",
       "    Mayweather_Landed  McGregor_Landed  \n",
       "1                  15               14  \n",
       "2                  38               30  \n",
       "3                  54               45  \n",
       "4                  73               68  \n",
       "5                  86               83  \n",
       "6                 107              101  \n",
       "7                 127              109  \n",
       "8                 138              122  \n",
       "9                 156              134  \n",
       "10                183              149  \n",
       "11                205              161  \n",
       "12                224              175  "
      ]
     },
     "execution_count": 10,
     "metadata": {},
     "output_type": "execute_result"
    }
   ],
   "source": [
    "def fight_sim(system, n_rounds):\n",
    "    \n",
    "    mayweather_results = []\n",
    "    mcgregor_results = []\n",
    "    Round = []\n",
    "    mw_throw = []\n",
    "    mw_land = []\n",
    "    mg_throw = []\n",
    "    mg_land = []\n",
    "    \n",
    "    reset(mayweather)\n",
    "    reset(mcgregor)\n",
    "    \n",
    "    \n",
    "    for n in linspace(1, n_rounds, n_rounds):\n",
    "        round_sim(system)\n",
    "        Round.append(int(n))\n",
    "        mw_throw.append(system.init.mw_thrown)\n",
    "        mw_land.append(system.init.mw_landed)\n",
    "        mg_throw.append(system.init.mg_thrown)\n",
    "        mg_land.append(system.init.mg_landed)\n",
    "        mayweather_results.append(mayweather.score)\n",
    "        mcgregor_results.append(mcgregor.score)\n",
    "        \n",
    "    d = {'Mayweather': mayweather_results,\n",
    "         'McGregor': mcgregor_results,\n",
    "         'Mayweather_Thrown': mw_throw,\n",
    "         'McGregor_Thrown': mg_throw,\n",
    "         'Mayweather_Landed': mw_land,\n",
    "         'McGregor_Landed': mg_land}\n",
    "    results = pd.DataFrame(data=d, index= Round)\n",
    "    return results\n",
    "\n",
    "fight_sim(system, 12)"
   ]
  },
  {
   "cell_type": "markdown",
   "metadata": {},
   "source": [
    "Adding kd and ko to modified the previous fight_sim simulation..."
   ]
  },
  {
   "cell_type": "code",
   "execution_count": 11,
   "metadata": {},
   "outputs": [],
   "source": [
    "def ko(fighter):\n",
    "    \n",
    "    print(\"{fighter} wins by K.O.\".format(fighter = fighter))"
   ]
  },
  {
   "cell_type": "code",
   "execution_count": 12,
   "metadata": {},
   "outputs": [],
   "source": [
    "def step(system):\n",
    "    \n",
    "    \n",
    "    if flip(system.mw_throw): \n",
    "        system.init.mw_thrown += 1 \n",
    "        mayweather.thrown += 1\n",
    "        \n",
    "        if flip(system.mw_land): \n",
    "            system.init.mw_landed += 1 \n",
    "            mayweather.landed += 1 \n",
    "            \n",
    "            if flip(system.mw_kd): \n",
    "                system.init.mw_kd += 1 \n",
    "                mayweather.kd += 1 \n",
    "                \n",
    "                if flip(system.mw_ko):   \n",
    "                    mayweather.ko += 1\n",
    "                    ko(\"Mayweather\")\n",
    "                    return True\n",
    "                \n",
    "  \n",
    "    if flip(system.mg_throw): \n",
    "        system.init.mg_thrown += 1 \n",
    "        mcgregor.thrown += 1 \n",
    "        \n",
    "        if flip(system.mg_land): \n",
    "            system.init.mg_landed += 1 \n",
    "            mcgregor.landed += 1 \n",
    "            \n",
    "            if flip(system.mg_kd): \n",
    "                system.init.mg_kd += 1\n",
    "                mcgregor.kd += 1\n",
    "                \n",
    "                if flip(system.mg_ko):   \n",
    "                    mcgregor.ko += 1\n",
    "                    ko(\"McGregor\")\n",
    "                    return True\n",
    "                \n",
    "            \n",
    "def round_sim(system):\n",
    "  \n",
    "    ns = 180\n",
    "    reset_state_modified() \n",
    "    \n",
    "    for i in range(ns): \n",
    "        res = step(system)\n",
    "        if res == True:\n",
    "              return res\n",
    "              break\n",
    "    if system.init.mw_kd > system.init.mg_kd: \n",
    "        mayweather.score += 10\n",
    "        mcgregor.score += 9 - system.init.mw_kd  \n",
    "    elif system.init.mw_kd < system.init.mg_kd: \n",
    "        mayweather.score += 9 - system.init.mg_kd\n",
    "        mcgregor.score += 10\n",
    "    elif system.init.mw_landed > system.init.mg_landed: \n",
    "        mayweather.score += 10\n",
    "        mcgregor.score += 9 - system.init.mw_kd\n",
    "    elif system.init.mg_landed > system.init.mw_landed:\n",
    "        mayweather.score += 9 - system.init.mg_kd\n",
    "        mcgregor.score += 10\n",
    "    else:\n",
    "        mayweather.score += 10\n",
    "        mcgregor.score += 10\n",
    "   \n"
   ]
  },
  {
   "cell_type": "code",
   "execution_count": 13,
   "metadata": {},
   "outputs": [],
   "source": [
    "def fight_sim(system, n_rounds):\n",
    "   \n",
    "    mayweather_results = []\n",
    "    mcgregor_results = []\n",
    "    Round = []\n",
    "    mw_throw = []\n",
    "    mw_land = []\n",
    "    mw_kd = []\n",
    "    mg_throw = []\n",
    "    mg_land = []\n",
    "    mg_kd = []\n",
    "    \n",
    "  \n",
    "    reset(mayweather)\n",
    "    reset(mcgregor)\n",
    "    \n",
    "    \n",
    "    for n in linspace(1,n_rounds, n_rounds):\n",
    "        res = round_sim(system)\n",
    "        Round.append(int(n))\n",
    "        mw_throw.append(system.init.mw_thrown)\n",
    "        mw_land.append(system.init.mw_landed)\n",
    "        mg_throw.append(system.init.mg_thrown)\n",
    "        mg_land.append(system.init.mg_landed)\n",
    "        mw_kd.append(system.init.mw_kd)\n",
    "        mg_kd.append(system.init.mg_kd)\n",
    "        mayweather_results.append(mayweather.score)\n",
    "        mcgregor_results.append(mcgregor.score)\n",
    "        if res == True:\n",
    "            break\n",
    "    d = {'Mayweather': mayweather_results,\n",
    "         'McGregor': mcgregor_results,\n",
    "         'Mayweather_Thrown': mw_throw,\n",
    "         'McGregor_Thrown': mg_throw,\n",
    "         'Mayweather_Landed': mw_land,\n",
    "         'McGregor_Landed': mg_land,\n",
    "         'Mayweather_KD': mw_kd,    \n",
    "         'McGregor_KD': mg_kd}\n",
    "    \n",
    "    results = pd.DataFrame(data=d, index= Round)\n",
    "    return results\n"
   ]
  },
  {
   "cell_type": "markdown",
   "metadata": {},
   "source": [
    "### Test the results"
   ]
  },
  {
   "cell_type": "code",
   "execution_count": 14,
   "metadata": {},
   "outputs": [
    {
     "name": "stdout",
     "output_type": "stream",
     "text": [
      "Mayweather wins by K.O.\n"
     ]
    },
    {
     "data": {
      "text/html": [
       "<div>\n",
       "<style scoped>\n",
       "    .dataframe tbody tr th:only-of-type {\n",
       "        vertical-align: middle;\n",
       "    }\n",
       "\n",
       "    .dataframe tbody tr th {\n",
       "        vertical-align: top;\n",
       "    }\n",
       "\n",
       "    .dataframe thead th {\n",
       "        text-align: right;\n",
       "    }\n",
       "</style>\n",
       "<table border=\"1\" class=\"dataframe\">\n",
       "  <thead>\n",
       "    <tr style=\"text-align: right;\">\n",
       "      <th></th>\n",
       "      <th>Mayweather</th>\n",
       "      <th>McGregor</th>\n",
       "      <th>Mayweather_Thrown</th>\n",
       "      <th>McGregor_Thrown</th>\n",
       "      <th>Mayweather_Landed</th>\n",
       "      <th>McGregor_Landed</th>\n",
       "      <th>Mayweather_KD</th>\n",
       "      <th>McGregor_KD</th>\n",
       "    </tr>\n",
       "  </thead>\n",
       "  <tbody>\n",
       "    <tr>\n",
       "      <th>1</th>\n",
       "      <td>0</td>\n",
       "      <td>0</td>\n",
       "      <td>14</td>\n",
       "      <td>12</td>\n",
       "      <td>2</td>\n",
       "      <td>4</td>\n",
       "      <td>1</td>\n",
       "      <td>0</td>\n",
       "    </tr>\n",
       "  </tbody>\n",
       "</table>\n",
       "</div>"
      ],
      "text/plain": [
       "   Mayweather  McGregor  Mayweather_Thrown  McGregor_Thrown  \\\n",
       "1           0         0                 14               12   \n",
       "\n",
       "   Mayweather_Landed  McGregor_Landed  Mayweather_KD  McGregor_KD  \n",
       "1                  2                4              1            0  "
      ]
     },
     "execution_count": 14,
     "metadata": {},
     "output_type": "execute_result"
    }
   ],
   "source": [
    "system = System(init = init,  \n",
    "                mw_throw = 0.23,\n",
    "                mw_land = 0.15,\n",
    "                mw_kd = 0.05, \n",
    "                mw_ko = 0.42,  \n",
    "                mg_throw = 0.27,\n",
    "                mg_land = 0.31,\n",
    "                mg_kd = 0.07,   \n",
    "                mg_ko = 0.39)\n",
    "\n",
    "fight_sim(system, 12)"
   ]
  },
  {
   "cell_type": "markdown",
   "metadata": {},
   "source": [
    "### Validation"
   ]
  },
  {
   "cell_type": "markdown",
   "metadata": {},
   "source": [
    "It is time to tweak some parameters..."
   ]
  },
  {
   "cell_type": "markdown",
   "metadata": {},
   "source": [
    "We will define run_simulation function in which we will calculate the victory margin."
   ]
  },
  {
   "cell_type": "code",
   "execution_count": 15,
   "metadata": {},
   "outputs": [
    {
     "name": "stdout",
     "output_type": "stream",
     "text": [
      "McGregor wins by K.O.\n",
      "Mayweather wins by K.O.\n",
      "McGregor wins by K.O.\n",
      "McGregor wins by K.O.\n",
      "McGregor wins by K.O.\n",
      "Mayweather wins by K.O.\n",
      "Mayweather wins by K.O.\n",
      "McGregor wins by K.O.\n",
      "McGregor wins by K.O.\n",
      "McGregor wins by K.O.\n",
      "McGregor wins by K.O.\n",
      "McGregor wins by K.O.\n",
      "McGregor wins by K.O.\n",
      "McGregor wins by K.O.\n",
      "McGregor wins by K.O.\n",
      "Mayweather wins by K.O.\n",
      "Mayweather wins by K.O.\n",
      "McGregor wins by K.O.\n",
      "McGregor wins by K.O.\n",
      "McGregor wins by K.O.\n",
      "Mayweather wins by K.O.\n",
      "McGregor wins by K.O.\n",
      "McGregor wins by K.O.\n",
      "Mayweather wins by K.O.\n",
      "Mayweather wins by K.O.\n",
      "McGregor wins by K.O.\n",
      "McGregor wins by K.O.\n",
      "Mayweather wins by K.O.\n",
      "McGregor wins by K.O.\n",
      "McGregor wins by K.O.\n",
      "Mayweather wins by K.O.\n",
      "McGregor wins by K.O.\n",
      "McGregor wins by K.O.\n",
      "McGregor wins by K.O.\n",
      "McGregor wins by K.O.\n",
      "McGregor wins by K.O.\n",
      "McGregor wins by K.O.\n",
      "McGregor wins by K.O.\n",
      "McGregor wins by K.O.\n",
      "Mayweather wins by K.O.\n",
      "McGregor wins by K.O.\n",
      "McGregor wins by K.O.\n",
      "McGregor wins by K.O.\n",
      "McGregor wins by K.O.\n",
      "McGregor wins by K.O.\n",
      "McGregor wins by K.O.\n",
      "Mayweather wins by K.O.\n",
      "McGregor wins by K.O.\n",
      "Mayweather wins by K.O.\n",
      "In decisions, Mayweather averages margin victory of: 2.0\n",
      "In decisions, McGregor averages margin victory of: 5.1905\n"
     ]
    },
    {
     "data": {
      "text/plain": [
       "mayweather_dec     3\n",
       "mayweather_KO      8\n",
       "mcgregor_dec      21\n",
       "mcgregor_KO       18\n",
       "Draw               0\n",
       "Name: state, dtype: int64"
      ]
     },
     "execution_count": 15,
     "metadata": {},
     "output_type": "execute_result"
    },
    {
     "data": {
      "image/png": "[encoded data removed]",
      "text/plain": [
       "<Figure size 432x288 with 1 Axes>"
      ]
     },
     "metadata": {
      "needs_background": "light"
     },
     "output_type": "display_data"
    }
   ],
   "source": [
    "def run_simulation(system, n_rounds, n_runs):\n",
    "    \n",
    "    results = State(mayweather_dec = 0,\n",
    "                    mayweather_KO = 0,\n",
    "                    mcgregor_dec = 0,\n",
    "                    mcgregor_KO = 0,\n",
    "                    Draw = 0)\n",
    "    \n",
    "    mw_margin, mg_margin = [],[] \n",
    "    \n",
    "    labels = ['mw_dec', 'mw_KO', 'mg_Dec', 'mg_KO', 'Draw']\n",
    "    \n",
    "    for run in range(n_runs):\n",
    "        fight_sim(system, n_rounds)\n",
    "        if mayweather.score > mcgregor.score:\n",
    "            results.mayweather_dec += 1\n",
    "            x= int(mayweather.score - mcgregor.score)\n",
    "            mw_margin.append(x)\n",
    "            \n",
    "        elif mayweather.score < mcgregor.score:\n",
    "            results.mcgregor_dec += 1\n",
    "            y= int(mcgregor.score - mayweather.score)\n",
    "            mg_margin.append(y)\n",
    "            \n",
    "        elif mayweather.ko == 1:\n",
    "            results.mayweather_KO += 1\n",
    "            \n",
    "        elif mcgregor.ko == 1:\n",
    "            results.mcgregor_KO += 1\n",
    "            \n",
    "        elif mayweather.score == mcgregor.score:\n",
    "            results.Draw += 1\n",
    "            \n",
    "    plt.bar(labels, results, color='green')\n",
    "    print(\"In decisions, Mayweather averages margin victory of:\", round(np.mean(mw_margin), 4))\n",
    "    print(\"In decisions, McGregor averages margin victory of:\", round(np.mean(mg_margin), 4))\n",
    "    return results\n",
    "\n",
    "run_simulation(system, 12, 50)"
   ]
  },
  {
   "cell_type": "markdown",
   "metadata": {},
   "source": [
    "### Forecasting/Findings"
   ]
  },
  {
   "cell_type": "markdown",
   "metadata": {},
   "source": [
    "Now that we can simulate the fight, we are going to use each fighters stat and predict the winner and details on the fight."
   ]
  },
  {
   "cell_type": "code",
   "execution_count": 16,
   "metadata": {},
   "outputs": [
    {
     "name": "stdout",
     "output_type": "stream",
     "text": [
      "Mayweather wins by K.O.\n",
      "Mayweather wins by K.O.\n",
      "McGregor wins by K.O.\n",
      "McGregor wins by K.O.\n",
      "McGregor wins by K.O.\n",
      "Mayweather wins by K.O.\n",
      "Mayweather wins by K.O.\n",
      "McGregor wins by K.O.\n",
      "Mayweather wins by K.O.\n",
      "Mayweather wins by K.O.\n",
      "McGregor wins by K.O.\n",
      "McGregor wins by K.O.\n",
      "Mayweather wins by K.O.\n",
      "McGregor wins by K.O.\n",
      "Mayweather wins by K.O.\n",
      "McGregor wins by K.O.\n",
      "Mayweather wins by K.O.\n",
      "Mayweather wins by K.O.\n",
      "McGregor wins by K.O.\n",
      "McGregor wins by K.O.\n",
      "McGregor wins by K.O.\n",
      "Mayweather wins by K.O.\n",
      "McGregor wins by K.O.\n",
      "McGregor wins by K.O.\n",
      "In decisions, Mayweather averages margin victory of: 3.0\n",
      "In decisions, McGregor averages margin victory of: 3.04\n"
     ]
    },
    {
     "data": {
      "text/plain": [
       "mayweather_dec    17\n",
       "mayweather_KO      2\n",
       "mcgregor_dec      25\n",
       "mcgregor_KO        2\n",
       "Draw               4\n",
       "Name: state, dtype: int64"
      ]
     },
     "execution_count": 16,
     "metadata": {},
     "output_type": "execute_result"
    },
    {
     "data": {
      "image/png": "[encoded data removed]",
      "text/plain": [
       "<Figure size 432x288 with 1 Axes>"
      ]
     },
     "metadata": {
      "needs_background": "light"
     },
     "output_type": "display_data"
    }
   ],
   "source": [
    "system = System(init = init,  \n",
    "                mw_throw = 0.21666,\n",
    "                mw_land = 0.364,\n",
    "                mw_kd = 0.008,  \n",
    "                mw_ko = 0.30,  \n",
    "                mg_throw = 0.28236,\n",
    "                mg_land = 0.280,\n",
    "                mg_kd = 0.011,   \n",
    "                mg_ko = 0.27)\n",
    "\n",
    "run_simulation(system, 12, 50)"
   ]
  },
  {
   "cell_type": "markdown",
   "metadata": {},
   "source": [
    "Testing my model shows that Mayweather won by KO but after tweaking some parameters, we can see that the average margin victory of McGregor is higher compared to Mayweather. This explains a bit to me why so many thought that Mcgregor could have won this fight. There's many other factors that needed to be taken into consideration while simulating human being situations. Things such as the mood on a particular day, the emotion,... can influence the outcome of real situation which could be different fro the simulation by the fact those things (emotion, feelins...) can't be put in numbers."
   ]
  },
  {
   "cell_type": "code",
   "execution_count": null,
   "metadata": {},
   "outputs": [],
   "source": []
  }
 ],
 "metadata": {
  "kernelspec": {
   "display_name": "Python 3",
   "language": "python",
   "name": "python3"
  },
  "language_info": {
   "codemirror_mode": {
    "name": "ipython",
    "version": 3
   },
   "file_extension": ".py",
   "mimetype": "text/x-python",
   "name": "python",
   "nbconvert_exporter": "python",
   "pygments_lexer": "ipython3",
   "version": "3.7.3"
  }
 },
 "nbformat": 4,
 "nbformat_minor": 2
}
