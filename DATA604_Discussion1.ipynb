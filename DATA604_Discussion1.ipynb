{
 "cells": [
  {
   "cell_type": "markdown",
   "metadata": {},
   "source": [
    "### DATA604: Discussion 1"
   ]
  },
  {
   "cell_type": "code",
   "execution_count": 1,
   "metadata": {},
   "outputs": [],
   "source": [
    "import numpy as np\n",
    "import itertools\n",
    "import random"
   ]
  },
  {
   "cell_type": "markdown",
   "metadata": {},
   "source": [
    "### Drawing cards wihout a replacement\n",
    "\n",
    "In this simulation problem, We are going to calculate the probability to get \n",
    "two queens when two cards are drawn from a deck of cards without a replacement.\n"
   ]
  },
  {
   "cell_type": "markdown",
   "metadata": {},
   "source": [
    "#### Building the deck of cards"
   ]
  },
  {
   "cell_type": "code",
   "execution_count": 2,
   "metadata": {},
   "outputs": [],
   "source": [
    "suits = ['Spade','Heart','Diamond','Club']\n",
    "cards = ['A', '2', '3', '4', '5', '6', '7', '8', '9', '10', 'J', 'Q', 'K']\n",
    "\n",
    "deck = list(itertools.product(cards, suits))\n"
   ]
  },
  {
   "cell_type": "markdown",
   "metadata": {},
   "source": [
    "#### Estimate the probability the two cards drawn to be Queen"
   ]
  },
  {
   "cell_type": "code",
   "execution_count": 3,
   "metadata": {},
   "outputs": [
    {
     "name": "stdout",
     "output_type": "stream",
     "text": [
      "The probabibility to draw two queens is: 0.004\n"
     ]
    }
   ],
   "source": [
    "# Number of simulation\n",
    "N = 1000\n",
    "\n",
    "two_queens = 0\n",
    "\n",
    "for draw in range(N):\n",
    "    \n",
    "    random.shuffle(deck) # Shuffle the deck\n",
    "    \n",
    "    queen = [q[0] for q in deck[0:2]].count('Q')\n",
    "    \n",
    "    if queen == 2:\n",
    "        two_queens +=1\n",
    "\n",
    "\n",
    "# Calculate the probability\n",
    "\n",
    "p = two_queens / N\n",
    "print (\"The probabibility to draw two queens is: \" + str(p))"
   ]
  },
  {
   "cell_type": "markdown",
   "metadata": {},
   "source": [
    "#### Calculate the actual probability numerically"
   ]
  },
  {
   "cell_type": "code",
   "execution_count": 4,
   "metadata": {},
   "outputs": [
    {
     "data": {
      "text/plain": [
       "0.004524886877828055"
      ]
     },
     "execution_count": 4,
     "metadata": {},
     "output_type": "execute_result"
    }
   ],
   "source": [
    "p2 = (4/52) * (3/51)\n",
    "p2"
   ]
  },
  {
   "cell_type": "markdown",
   "metadata": {},
   "source": [
    "The simulation gives us a closer value to a numerical calculation.\n",
    "\n",
    "Let calculate the error:"
   ]
  },
  {
   "cell_type": "code",
   "execution_count": 5,
   "metadata": {},
   "outputs": [
    {
     "data": {
      "text/plain": [
       "0.12"
      ]
     },
     "execution_count": 5,
     "metadata": {},
     "output_type": "execute_result"
    }
   ],
   "source": [
    "err = (np.abs(p - p2)/ p2).round(2)\n",
    "err"
   ]
  },
  {
   "cell_type": "markdown",
   "metadata": {},
   "source": [
    "#### To improve it, we would consider increasing the number of simulation (N)\n",
    "\n",
    "Let give it a try:"
   ]
  },
  {
   "cell_type": "code",
   "execution_count": 6,
   "metadata": {},
   "outputs": [
    {
     "name": "stdout",
     "output_type": "stream",
     "text": [
      "The probabibility to draw two queens is: 0.004562\n"
     ]
    }
   ],
   "source": [
    "# Number of simulation\n",
    "N = 1000000\n",
    "\n",
    "two_queens = 0\n",
    "\n",
    "for draw in range(N):\n",
    "    \n",
    "    random.shuffle(deck) # Shuffle the deck\n",
    "    \n",
    "    queen = [q[0] for q in deck[0:2]].count('Q')\n",
    "    \n",
    "    if queen == 2:\n",
    "        two_queens +=1\n",
    "\n",
    "\n",
    "# Calculate the probability\n",
    "\n",
    "p3 = two_queens / N\n",
    "print (\"The probabibility to draw two queens is: \" + str(p3))"
   ]
  },
  {
   "cell_type": "markdown",
   "metadata": {},
   "source": [
    "#### Calculating the error again"
   ]
  },
  {
   "cell_type": "code",
   "execution_count": 7,
   "metadata": {},
   "outputs": [
    {
     "data": {
      "text/plain": [
       "0.01"
      ]
     },
     "execution_count": 7,
     "metadata": {},
     "output_type": "execute_result"
    }
   ],
   "source": [
    "err = (np.abs(p3 - p2)/ p2).round(2)\n",
    "err"
   ]
  },
  {
   "cell_type": "markdown",
   "metadata": {},
   "source": [
    "We can see that the result has improved significantly."
   ]
  }
 ],
 "metadata": {
  "kernelspec": {
   "display_name": "Python 3",
   "language": "python",
   "name": "python3"
  },
  "language_info": {
   "codemirror_mode": {
    "name": "ipython",
    "version": 3
   },
   "file_extension": ".py",
   "mimetype": "text/x-python",
   "name": "python",
   "nbconvert_exporter": "python",
   "pygments_lexer": "ipython3",
   "version": "3.6.5"
  }
 },
 "nbformat": 4,
 "nbformat_minor": 2
}
